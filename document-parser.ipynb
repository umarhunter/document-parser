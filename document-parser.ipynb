{
 "cells": [
  {
   "cell_type": "markdown",
   "id": "4529ce75333494b4",
   "metadata": {},
   "source": [
    "#### What does Langchain do?\n",
    "```document-parser``` is a tool that splits a structured document into smaller chunks. This is done using ```regex``` and ```langchain```, an open-source framework that stores those embeddings (which are now vector representations of the text) into a vector database. This tool is useful for searching and retrieving information from a large document, and may have significant use-cases in GPT/LLM evaluations. The way langchain works is that a user creates a query, this query gets sent to the LLM and a vector representation of that query is used to do a similarity search inside the vector database. This'll fetch the relevant chunks of information from the vector database and feed that into the LLM. Now the LLM has the initial query and the relevant chunks of information to generate a response. This response is then sent back to the user.  "
   ]
  },
  {
   "cell_type": "code",
   "id": "70ebafab6086e4d4",
   "metadata": {
    "ExecuteTime": {
     "end_time": "2024-07-07T02:12:36.843267Z",
     "start_time": "2024-07-07T02:12:36.829490Z"
    }
   },
   "source": [
    "import sys\n",
    "print(sys.version)\n",
    "from dotenv import load_dotenv\n",
    "load_dotenv()\n",
    "\n",
    "from os import getenv\n",
    "\n",
    "# retrieve the API keys from the environment variables\n",
    "OPENAI_API_KEY = getenv(\"OPENAI_API_KEY\")\n",
    "PINECONE_API_KEY = getenv(\"PINECONE_API_KEY\")\n",
    "PINECONE_INDEX_NAME = getenv(\"PINECONE_INDEX_NAME\")"
   ],
   "outputs": [
    {
     "name": "stdout",
     "output_type": "stream",
     "text": [
      "3.11.9 | packaged by conda-forge | (main, Apr 19 2024, 18:27:10) [MSC v.1938 64 bit (AMD64)]\n"
     ]
    }
   ],
   "execution_count": 1
  },
  {
   "cell_type": "code",
   "id": "4c1b4373f579bb07",
   "metadata": {
    "ExecuteTime": {
     "end_time": "2024-07-07T02:12:37.016980Z",
     "start_time": "2024-07-07T02:12:36.843267Z"
    }
   },
   "source": [
    "from pinecone.grpc import PineconeGRPC as Pinecone\n",
    "from pinecone import ServerlessSpec\n",
    "pc = Pinecone(api_key=PINECONE_API_KEY)"
   ],
   "outputs": [
    {
     "name": "stderr",
     "output_type": "stream",
     "text": [
      "C:\\Users\\educa\\miniforge3\\envs\\document-parser\\Lib\\site-packages\\pinecone\\data\\index.py:1: TqdmWarning: IProgress not found. Please update jupyter and ipywidgets. See https://ipywidgets.readthedocs.io/en/stable/user_install.html\n",
      "  from tqdm.autonotebook import tqdm\n"
     ]
    }
   ],
   "execution_count": 2
  },
  {
   "metadata": {
    "ExecuteTime": {
     "end_time": "2024-07-07T02:12:38.125095Z",
     "start_time": "2024-07-07T02:12:37.016980Z"
    }
   },
   "cell_type": "code",
   "source": [
    "from langchain_openai import OpenAIEmbeddings\n",
    "\n",
    "\n",
    "embeddings = OpenAIEmbeddings()"
   ],
   "id": "e25563d302ed8dad",
   "outputs": [],
   "execution_count": 3
  },
  {
   "metadata": {},
   "cell_type": "markdown",
   "source": "Convert the Word document into a Langchain Document class object",
   "id": "7a012245ce2cb6d9"
  },
  {
   "metadata": {
    "ExecuteTime": {
     "end_time": "2024-07-07T02:12:40.372102Z",
     "start_time": "2024-07-07T02:12:38.126098Z"
    }
   },
   "cell_type": "code",
   "source": [
    "%pip install --upgrade --quiet  docx2txt\n",
    "from langchain_community.document_loaders import Docx2txtLoader\n",
    "\n",
    "loader = Docx2txtLoader(\"./docs/business_terms.docx\")\n",
    "\n",
    "data = loader.load()\n",
    "\n",
    "data"
   ],
   "id": "e7f20dd1ef5eaa49",
   "outputs": [
    {
     "name": "stdout",
     "output_type": "stream",
     "text": [
      "Note: you may need to restart the kernel to use updated packages.\n"
     ]
    },
    {
     "data": {
      "text/plain": [
       "[Document(metadata={'source': './docs/business_terms.docx'}, page_content=\"Title: An official designation of an individual's position or job role within an organization.\\n\\nTerm Date: The date on which a contract or agreement is set to expire or terminate.\\n\\nGuarantor: An individual or entity that agrees to be responsible for another's debt or obligations in case of default.\\n\\nApplicant: A person who applies for something, such as a job, a loan, or admission to an institution.\\n\\nObligor: The party in a contract who is obligated to provide payment or services.\\n\\nObligee: The party in a contract to whom an obligation is owed.\\n\\nCollateral: Assets pledged by a borrower to secure a loan or other credit.\\n\\nLien: A legal right or interest that a lender has in the borrower's property, granted until the debt obligation is satisfied.\\n\\nIndemnity: A contractual obligation of one party to compensate the loss incurred to the other party due to the acts of the indemnitor or any other party.\\n\\nArbitration: A method of dispute resolution where an impartial third party, the arbitrator, makes a decision to resolve the conflict outside of court.\\n\\nBreach of Contract: A violation of any of the agreed-upon terms and conditions of a binding contract.\\n\\nDue Diligence: An investigation or audit of a potential investment or product to confirm all facts, such as reviewing financial records.\\n\\nForce Majeure: A clause that frees both parties from liability or obligation when an extraordinary event or circumstance beyond their control occurs.\\n\\nIntellectual Property: Creations of the mind, such as inventions, literary and artistic works, designs, and symbols, names, and images used in commerce.\\n\\nNon-Disclosure Agreement (NDA): A legally binding contract establishing a confidential relationship between parties to protect any type of confidential and proprietary information or trade secrets.\\n\\nPartnership: A business arrangement where two or more individuals share ownership and the responsibility for managing the company.\\n\\nShareholder: An individual or institution that legally owns one or more shares of stock in a public or private corporation.\\n\\nTenure: The period or term during which an individual holds a position or office.\")]"
      ]
     },
     "execution_count": 4,
     "metadata": {},
     "output_type": "execute_result"
    }
   ],
   "execution_count": 4
  },
  {
   "metadata": {},
   "cell_type": "markdown",
   "source": "The Document object has a data member page_content that contains all the text from the document. We want to now parse this text into smaller chunks. We want to create new Document class objects such that each keyword with definition is a separate Document object. Afterwards we'll put it in our vector database.",
   "id": "79be0e63586f68bb"
  },
  {
   "metadata": {
    "ExecuteTime": {
     "end_time": "2024-07-07T02:12:40.376250Z",
     "start_time": "2024-07-07T02:12:40.372102Z"
    }
   },
   "cell_type": "code",
   "source": [
    "import regex as re\n",
    "\n",
    "# the string containing keywords and definitions\n",
    "page_content = data[0].page_content\n",
    "\n",
    "# regex that'll match a keyword followed by a colon and a definition\n",
    "pattern = r\"(?<=^|\\n)([\\w\\s/()]+?):\\s*(.*?)(?=\\n[\\w\\s/()]+?:|\\Z)\"\n",
    "\n",
    "# find all matches of the pattern in the page_content string\n",
    "matches = re.findall(pattern, page_content, re.DOTALL)\n",
    "\n",
    "# Convert matches to a dictionary\n",
    "keywords_definitions = {keyword.strip(): definition.strip() for keyword, definition in matches}\n",
    "\n",
    "# Example usage: print each keyword and its definition\n",
    "for keyword, definition in keywords_definitions.items():\n",
    "    print(f\"{keyword}: {definition}\\n\")"
   ],
   "id": "640bb52e248cb808",
   "outputs": [
    {
     "name": "stdout",
     "output_type": "stream",
     "text": [
      "Title: An official designation of an individual's position or job role within an organization.\n",
      "\n",
      "Term Date: The date on which a contract or agreement is set to expire or terminate.\n",
      "\n",
      "Guarantor: An individual or entity that agrees to be responsible for another's debt or obligations in case of default.\n",
      "\n",
      "Applicant: A person who applies for something, such as a job, a loan, or admission to an institution.\n",
      "\n",
      "Obligor: The party in a contract who is obligated to provide payment or services.\n",
      "\n",
      "Obligee: The party in a contract to whom an obligation is owed.\n",
      "\n",
      "Collateral: Assets pledged by a borrower to secure a loan or other credit.\n",
      "\n",
      "Lien: A legal right or interest that a lender has in the borrower's property, granted until the debt obligation is satisfied.\n",
      "\n",
      "Indemnity: A contractual obligation of one party to compensate the loss incurred to the other party due to the acts of the indemnitor or any other party.\n",
      "\n",
      "Arbitration: A method of dispute resolution where an impartial third party, the arbitrator, makes a decision to resolve the conflict outside of court.\n",
      "\n",
      "Breach of Contract: A violation of any of the agreed-upon terms and conditions of a binding contract.\n",
      "\n",
      "Due Diligence: An investigation or audit of a potential investment or product to confirm all facts, such as reviewing financial records.\n",
      "\n",
      "Force Majeure: A clause that frees both parties from liability or obligation when an extraordinary event or circumstance beyond their control occurs.\n",
      "\n",
      "Intellectual Property: Creations of the mind, such as inventions, literary and artistic works, designs, and symbols, names, and images used in commerce.\n",
      "\n",
      "Non-Disclosure Agreement (NDA): A legally binding contract establishing a confidential relationship between parties to protect any type of confidential and proprietary information or trade secrets.\n",
      "\n",
      "Partnership: A business arrangement where two or more individuals share ownership and the responsibility for managing the company.\n",
      "\n",
      "Shareholder: An individual or institution that legally owns one or more shares of stock in a public or private corporation.\n",
      "\n",
      "Tenure: The period or term during which an individual holds a position or office.\n",
      "\n"
     ]
    }
   ],
   "execution_count": 5
  },
  {
   "metadata": {},
   "cell_type": "markdown",
   "source": "Export all the keywords and definitions to a .txt file. The goal is to prevent any missing data. When reading in the text file, it should be easier to load.",
   "id": "9fe31586af11ba6c"
  },
  {
   "metadata": {
    "ExecuteTime": {
     "end_time": "2024-07-07T02:12:40.382804Z",
     "start_time": "2024-07-07T02:12:40.376250Z"
    }
   },
   "cell_type": "code",
   "source": [
    "# Open a new .txt file in write mode\n",
    "with open('keywords_definitions.txt', 'w') as file:\n",
    "    # Iterate through the keywords_definitions dictionary\n",
    "    for keyword, definition in keywords_definitions.items():\n",
    "        # Write the keyword and its definition to the file\n",
    "        file.write(f\"{keyword}: {definition}\\n\\n\")"
   ],
   "id": "d5f6bfde7f2083be",
   "outputs": [],
   "execution_count": 6
  },
  {
   "metadata": {},
   "cell_type": "markdown",
   "source": "Load in the text file and parse the data into a dictionary again.",
   "id": "fe79b63cfa481cce"
  },
  {
   "metadata": {
    "ExecuteTime": {
     "end_time": "2024-07-07T02:12:40.393302Z",
     "start_time": "2024-07-07T02:12:40.382804Z"
    }
   },
   "cell_type": "code",
   "source": [
    "def read_keywords_from_file(file_path):\n",
    "    keywords_dict = {}\n",
    "    with open(file_path, 'r') as file:\n",
    "        for line in file:\n",
    "            if ':' in line:  # Ensure the line contains a colon\n",
    "                keyword, definition = line.split(':', 1)  # Split on the first colon only\n",
    "                keywords_dict[keyword.strip()] = definition.strip()\n",
    "    return keywords_dict\n",
    "\n",
    "# Example usage\n",
    "file_path = 'keywords_definitions.txt'\n",
    "keywords_definitions = read_keywords_from_file(file_path)\n",
    "print(keywords_definitions)"
   ],
   "id": "570ee1108edca67",
   "outputs": [
    {
     "name": "stdout",
     "output_type": "stream",
     "text": [
      "{'Title': \"An official designation of an individual's position or job role within an organization.\", 'Term Date': 'The date on which a contract or agreement is set to expire or terminate.', 'Guarantor': \"An individual or entity that agrees to be responsible for another's debt or obligations in case of default.\", 'Applicant': 'A person who applies for something, such as a job, a loan, or admission to an institution.', 'Obligor': 'The party in a contract who is obligated to provide payment or services.', 'Obligee': 'The party in a contract to whom an obligation is owed.', 'Collateral': 'Assets pledged by a borrower to secure a loan or other credit.', 'Lien': \"A legal right or interest that a lender has in the borrower's property, granted until the debt obligation is satisfied.\", 'Indemnity': 'A contractual obligation of one party to compensate the loss incurred to the other party due to the acts of the indemnitor or any other party.', 'Arbitration': 'A method of dispute resolution where an impartial third party, the arbitrator, makes a decision to resolve the conflict outside of court.', 'Breach of Contract': 'A violation of any of the agreed-upon terms and conditions of a binding contract.', 'Due Diligence': 'An investigation or audit of a potential investment or product to confirm all facts, such as reviewing financial records.', 'Force Majeure': 'A clause that frees both parties from liability or obligation when an extraordinary event or circumstance beyond their control occurs.', 'Intellectual Property': 'Creations of the mind, such as inventions, literary and artistic works, designs, and symbols, names, and images used in commerce.', 'Non-Disclosure Agreement (NDA)': 'A legally binding contract establishing a confidential relationship between parties to protect any type of confidential and proprietary information or trade secrets.', 'Partnership': 'A business arrangement where two or more individuals share ownership and the responsibility for managing the company.', 'Shareholder': 'An individual or institution that legally owns one or more shares of stock in a public or private corporation.', 'Tenure': 'The period or term during which an individual holds a position or office.'}\n"
     ]
    }
   ],
   "execution_count": 7
  },
  {
   "metadata": {},
   "cell_type": "markdown",
   "source": "As we can see now, \"Non-Disclosure Agreement (NDA)\" is a key in the dictionary. As of right now, every definition from the document is accounted for. We can now export each keyword and definition to a separate .yaml file.",
   "id": "946f11097d3f5bf9"
  },
  {
   "metadata": {
    "ExecuteTime": {
     "end_time": "2024-07-07T02:12:40.396546Z",
     "start_time": "2024-07-07T02:12:40.393302Z"
    }
   },
   "cell_type": "code",
   "source": "print(keywords_definitions['Non-Disclosure Agreement (NDA)'])",
   "id": "4fe81f5a2da91afd",
   "outputs": [
    {
     "name": "stdout",
     "output_type": "stream",
     "text": [
      "A legally binding contract establishing a confidential relationship between parties to protect any type of confidential and proprietary information or trade secrets.\n"
     ]
    }
   ],
   "execution_count": 8
  },
  {
   "metadata": {
    "ExecuteTime": {
     "end_time": "2024-07-07T02:12:40.410391Z",
     "start_time": "2024-07-07T02:12:40.396546Z"
    }
   },
   "cell_type": "code",
   "source": [
    "import yaml\n",
    "\n",
    "def sanitize_filename(filename):\n",
    "    \"\"\"Sanitize the string to make it a valid filename.\"\"\"\n",
    "    return re.sub(r'[\\\\/*?:\"<>|]', \"\", filename)[:255]\n",
    "\n",
    "print(len(keywords_definitions))\n",
    "for keyword, definition in keywords_definitions.items():\n",
    "    filename = sanitize_filename(keyword) + '.yaml'\n",
    "    filename = \"./results/\" + filename\n",
    "    with open(filename, 'w') as file:\n",
    "        print(f\"Creating file: {filename}\")\n",
    "        yaml.dump({keyword: definition}, file, default_flow_style=False)"
   ],
   "id": "90157ba8c1fb970c",
   "outputs": [
    {
     "name": "stdout",
     "output_type": "stream",
     "text": [
      "18\n",
      "Creating file: ./results/Title.yaml\n",
      "Creating file: ./results/Term Date.yaml\n",
      "Creating file: ./results/Guarantor.yaml\n",
      "Creating file: ./results/Applicant.yaml\n",
      "Creating file: ./results/Obligor.yaml\n",
      "Creating file: ./results/Obligee.yaml\n",
      "Creating file: ./results/Collateral.yaml\n",
      "Creating file: ./results/Lien.yaml\n",
      "Creating file: ./results/Indemnity.yaml\n",
      "Creating file: ./results/Arbitration.yaml\n",
      "Creating file: ./results/Breach of Contract.yaml\n",
      "Creating file: ./results/Due Diligence.yaml\n",
      "Creating file: ./results/Force Majeure.yaml\n",
      "Creating file: ./results/Intellectual Property.yaml\n",
      "Creating file: ./results/Non-Disclosure Agreement (NDA).yaml\n",
      "Creating file: ./results/Partnership.yaml\n",
      "Creating file: ./results/Shareholder.yaml\n",
      "Creating file: ./results/Tenure.yaml\n"
     ]
    }
   ],
   "execution_count": 9
  },
  {
   "metadata": {
    "ExecuteTime": {
     "end_time": "2024-07-07T03:17:38.933555Z",
     "start_time": "2024-07-07T03:17:37.713725Z"
    }
   },
   "cell_type": "code",
   "source": [
    "from langchain_text_splitters import CharacterTextSplitter\n",
    "from langchain_community.document_loaders import TextLoader\n",
    "from langchain_pinecone import PineconeVectorStore\n",
    "loader = TextLoader(\"keywords_definitions.txt\")\n",
    "documents = loader.load()\n",
    "text_splitter = CharacterTextSplitter(chunk_size=1000, chunk_overlap=0)\n",
    "docs = text_splitter.split_documents(documents)\n",
    "\n",
    "\n",
    "vectorstore_from_texts = PineconeVectorStore.from_documents(\n",
    "        docs,\n",
    "        index_name=PINECONE_INDEX_NAME,\n",
    "        embedding=embeddings\n",
    "    )"
   ],
   "id": "e91bfddbcca5e4fe",
   "outputs": [],
   "execution_count": 16
  },
  {
   "metadata": {
    "ExecuteTime": {
     "end_time": "2024-07-07T03:18:49.947510Z",
     "start_time": "2024-07-07T03:18:49.943833Z"
    }
   },
   "cell_type": "code",
   "source": [
    "vectorstore = PineconeVectorStore(index_name=PINECONE_INDEX_NAME, embedding=embeddings)\n",
    "#vectorstore.add_texts([\"More text to embed and add to the index!\"])"
   ],
   "id": "a310f4f9a954add7",
   "outputs": [],
   "execution_count": 17
  },
  {
   "metadata": {
    "ExecuteTime": {
     "end_time": "2024-07-07T03:18:53.650791Z",
     "start_time": "2024-07-07T03:18:53.044549Z"
    }
   },
   "cell_type": "code",
   "source": [
    "query = \"What is an applicant?\"\n",
    "vectorstore.similarity_search(query)"
   ],
   "id": "d7fd17235d6c13fd",
   "outputs": [
    {
     "data": {
      "text/plain": [
       "[Document(metadata={'source': 'keywords_definitions.txt'}, page_content=\"Title: An official designation of an individual's position or job role within an organization.\\n\\nTerm Date: The date on which a contract or agreement is set to expire or terminate.\\n\\nGuarantor: An individual or entity that agrees to be responsible for another's debt or obligations in case of default.\\n\\nApplicant: A person who applies for something, such as a job, a loan, or admission to an institution.\\n\\nObligor: The party in a contract who is obligated to provide payment or services.\\n\\nObligee: The party in a contract to whom an obligation is owed.\\n\\nCollateral: Assets pledged by a borrower to secure a loan or other credit.\\n\\nLien: A legal right or interest that a lender has in the borrower's property, granted until the debt obligation is satisfied.\\n\\nIndemnity: A contractual obligation of one party to compensate the loss incurred to the other party due to the acts of the indemnitor or any other party.\"),\n",
       " Document(metadata={'source': './docs/file1.txt'}, page_content='By contrast, an LLM can respond to natural human language and use data analysis to answer an unstructured question or prompt in a way that makes sense. Whereas a typical computer program would not recognize a prompt like \"What are the four greatest funk bands in history?\", an LLM might reply with a list of four such bands, and a reasonably cogent defense of why they are the best.\\n\\nIn terms of the information they provide, however, LLMs can only be as reliable as the data they ingest. If fed false information, they will give false information in response to user queries. LLMs also sometimes \"hallucinate\": they create fake information when they are unable to produce an accurate answer. For example, in 2022 news outlet Fast Company asked ChatGPT about the company Tesla\\'s previous financial quarter; while ChatGPT provided a coherent news article in response, much of the information within was invented.'),\n",
       " Document(metadata={'source': './docs/file1.txt'}, page_content='In terms of security, user-facing applications based on LLMs are as prone to bugs as any other application. LLMs can also be manipulated via malicious inputs to provide certain types of responses over others â€” including responses that are dangerous or unethical. Finally, one of the security problems with LLMs is that users may upload secure, confidential data into them in order to increase their own productivity. But LLMs use the inputs they receive to further train their models, and they are not designed to be secure vaults; they may expose confidential data in response to queries from other users.'),\n",
       " Document(metadata={'source': 'keywords_definitions.txt'}, page_content='Partnership: A business arrangement where two or more individuals share ownership and the responsibility for managing the company.\\n\\nShareholder: An individual or institution that legally owns one or more shares of stock in a public or private corporation.\\n\\nTenure: The period or term during which an individual holds a position or office.')]"
      ]
     },
     "execution_count": 18,
     "metadata": {},
     "output_type": "execute_result"
    }
   ],
   "execution_count": 18
  },
  {
   "metadata": {},
   "cell_type": "code",
   "outputs": [],
   "execution_count": null,
   "source": "",
   "id": "697bccf39f4719d4"
  }
 ],
 "metadata": {
  "kernelspec": {
   "display_name": "document-parser",
   "language": "python",
   "name": "document-parser"
  },
  "language_info": {
   "codemirror_mode": {
    "name": "ipython",
    "version": 3
   },
   "file_extension": ".py",
   "mimetype": "text/x-python",
   "name": "python",
   "nbconvert_exporter": "python",
   "pygments_lexer": "ipython3",
   "version": "3.11.9"
  }
 },
 "nbformat": 4,
 "nbformat_minor": 5
}
