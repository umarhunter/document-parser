{
 "cells": [
  {
   "cell_type": "markdown",
   "id": "4529ce75333494b4",
   "metadata": {},
   "source": [
    "#### What does Langchain do?\n",
    "```document-parser``` is a tool that splits a document into smaller chunks. This is done using ```langchain```, an open-source framework that stores those embeddings (which are now vector representations after text) into a vector database. This tool is useful for searching and retrieving information from a large document, and has significant use-cases in GPT/LLM evaluations. The way langchain works is that a user creates a query, this query gets sent to the LLM and a vector representation of that query is used to do a similarity search inside the vector database. This'll fetch the relevant chunks of information from the vector database and feed that into the LLM. Now the LLM has the initial query and the relevant chunks of information to generate a response. This response is then sent back to the user.  "
   ]
  },
  {
   "metadata": {
    "ExecuteTime": {
     "end_time": "2024-07-05T02:14:20.103823Z",
     "start_time": "2024-07-05T02:14:20.090722Z"
    }
   },
   "cell_type": "code",
   "source": [
    "import sys\n",
    "print(sys.version)"
   ],
   "id": "d3b47a26154f4321",
   "outputs": [
    {
     "name": "stdout",
     "output_type": "stream",
     "text": [
      "3.11.9 | packaged by conda-forge | (main, Apr 19 2024, 18:27:10) [MSC v.1938 64 bit (AMD64)]\n"
     ]
    }
   ],
   "execution_count": 1
  },
  {
   "cell_type": "code",
   "id": "70ebafab6086e4d4",
   "metadata": {
    "ExecuteTime": {
     "end_time": "2024-07-05T02:14:20.818103Z",
     "start_time": "2024-07-05T02:14:20.811035Z"
    }
   },
   "source": [
    "from dotenv import load_dotenv\n",
    "load_dotenv()\n",
    "\n",
    "from os import getenv\n",
    "OPENAI_API_KEY = getenv(\"OPENAI_API_KEY\")\n",
    "PINECONE_API_KEY = getenv(\"PINECONE_API_KEY\")\n",
    "PINECONE_INDEX_NAME = getenv(\"PINECONE_INDEX_NAME\")"
   ],
   "outputs": [],
   "execution_count": 2
  },
  {
   "cell_type": "code",
   "id": "4c1b4373f579bb07",
   "metadata": {
    "ExecuteTime": {
     "end_time": "2024-07-05T02:14:21.637469Z",
     "start_time": "2024-07-05T02:14:21.529727Z"
    }
   },
   "source": [
    "from pinecone.grpc import PineconeGRPC as Pinecone\n",
    "from pinecone import ServerlessSpec\n",
    "pc = Pinecone(api_key=PINECONE_API_KEY)"
   ],
   "outputs": [
    {
     "name": "stderr",
     "output_type": "stream",
     "text": [
      "C:\\Users\\educa\\miniforge3\\envs\\document-parser\\Lib\\site-packages\\pinecone\\data\\index.py:1: TqdmWarning: IProgress not found. Please update jupyter and ipywidgets. See https://ipywidgets.readthedocs.io/en/stable/user_install.html\n",
      "  from tqdm.autonotebook import tqdm\n"
     ]
    }
   ],
   "execution_count": 3
  },
  {
   "metadata": {
    "ExecuteTime": {
     "end_time": "2024-07-05T02:14:22.485950Z",
     "start_time": "2024-07-05T02:14:22.484437Z"
    }
   },
   "cell_type": "code",
   "source": "",
   "id": "4128328c5a97f944",
   "outputs": [],
   "execution_count": 3
  },
  {
   "metadata": {
    "ExecuteTime": {
     "end_time": "2024-07-05T02:14:25.651813Z",
     "start_time": "2024-07-05T02:14:24.606582Z"
    }
   },
   "cell_type": "code",
   "source": [
    "from langchain_pinecone import PineconeVectorStore\n",
    "from langchain_openai import OpenAIEmbeddings\n",
    "from langchain_community.document_loaders import TextLoader\n",
    "from langchain_text_splitters import CharacterTextSplitter\n",
    "\n",
    "embeddings = OpenAIEmbeddings()"
   ],
   "id": "e25563d302ed8dad",
   "outputs": [],
   "execution_count": 4
  },
  {
   "metadata": {},
   "cell_type": "markdown",
   "source": "#### Convert the Word document into a Langchain Document class object",
   "id": "7a012245ce2cb6d9"
  },
  {
   "metadata": {
    "ExecuteTime": {
     "end_time": "2024-07-05T02:14:28.254749Z",
     "start_time": "2024-07-05T02:14:27.065501Z"
    }
   },
   "cell_type": "code",
   "source": [
    "%pip install --upgrade --quiet  docx2txt\n",
    "from langchain_community.document_loaders import Docx2txtLoader\n",
    "\n",
    "loader = Docx2txtLoader(\"./docs/business_terms.docx\")\n",
    "\n",
    "data = loader.load()\n",
    "\n",
    "data"
   ],
   "id": "e7f20dd1ef5eaa49",
   "outputs": [
    {
     "name": "stdout",
     "output_type": "stream",
     "text": [
      "Note: you may need to restart the kernel to use updated packages.\n"
     ]
    },
    {
     "data": {
      "text/plain": [
       "[Document(metadata={'source': './docs/business_terms.docx'}, page_content=\"Title: An official designation of an individual's position or job role within an organization.\\n\\nTerm Date: The date on which a contract or agreement is set to expire or terminate.\\n\\nGuarantor: An individual or entity that agrees to be responsible for another's debt or obligations in case of default.\\n\\nApplicant: A person who applies for something, such as a job, a loan, or admission to an institution.\\n\\nObligor: The party in a contract who is obligated to provide payment or services.\\n\\nObligee: The party in a contract to whom an obligation is owed.\\n\\nCollateral: Assets pledged by a borrower to secure a loan or other credit.\\n\\nLien: A legal right or interest that a lender has in the borrower's property, granted until the debt obligation is satisfied.\\n\\nIndemnity: A contractual obligation of one party to compensate the loss incurred to the other party due to the acts of the indemnitor or any other party.\\n\\nArbitration: A method of dispute resolution where an impartial third party, the arbitrator, makes a decision to resolve the conflict outside of court.\\n\\nBreach of Contract: A violation of any of the agreed-upon terms and conditions of a binding contract.\\n\\nDue Diligence: An investigation or audit of a potential investment or product to confirm all facts, such as reviewing financial records.\\n\\nForce Majeure: A clause that frees both parties from liability or obligation when an extraordinary event or circumstance beyond their control occurs.\\n\\nIntellectual Property: Creations of the mind, such as inventions, literary and artistic works, designs, and symbols, names, and images used in commerce.\\n\\nNon-Disclosure Agreement (NDA): A legally binding contract establishing a confidential relationship between parties to protect any type of confidential and proprietary information or trade secrets.\\n\\nPartnership: A business arrangement where two or more individuals share ownership and the responsibility for managing the company.\\n\\nShareholder: An individual or institution that legally owns one or more shares of stock in a public or private corporation.\\n\\nTenure: The period or term during which an individual holds a position or office.\")]"
      ]
     },
     "execution_count": 5,
     "metadata": {},
     "output_type": "execute_result"
    }
   ],
   "execution_count": 5
  },
  {
   "metadata": {},
   "cell_type": "markdown",
   "source": "#### The Document object has a data member page_content that contains all the text from the document. We want to now parse this text into smaller chunks. We want to create new Document class objects such that each keyword with definition is a separate Document object. Afterwards we'll put it in our vector database.",
   "id": "79be0e63586f68bb"
  },
  {
   "metadata": {
    "ExecuteTime": {
     "end_time": "2024-07-05T02:32:42.932860Z",
     "start_time": "2024-07-05T02:32:42.929618Z"
    }
   },
   "cell_type": "code",
   "source": [
    "import re\n",
    "\n",
    "# the string containing keywords and definitions\n",
    "page_content = data[0].page_content\n",
    "\n",
    "# regex that'll match a keyword followed by a colon and a definition\n",
    "pattern = r\"(\\w+(?:\\s+\\w+)*): ((?:.|\\n)+?)(?=\\n\\w+: |\\Z)\"\n",
    "\n",
    "# find all matches of the pattern in the page_content string\n",
    "matches = re.findall(pattern, page_content, re.DOTALL)\n",
    "\n",
    "# Convert matches to a dictionary\n",
    "keywords_definitions = {keyword.strip(): definition.strip() for keyword, definition in matches}\n",
    "\n",
    "# Example usage: print each keyword and its definition\n",
    "for keyword, definition in keywords_definitions.items():\n",
    "    print(f\"{keyword}: {definition}\\n\")"
   ],
   "id": "640bb52e248cb808",
   "outputs": [
    {
     "name": "stdout",
     "output_type": "stream",
     "text": [
      "Title: An official designation of an individual's position or job role within an organization.\n",
      "\n",
      "Term Date: The date on which a contract or agreement is set to expire or terminate.\n",
      "\n",
      "Guarantor: An individual or entity that agrees to be responsible for another's debt or obligations in case of default.\n",
      "\n",
      "Applicant: A person who applies for something, such as a job, a loan, or admission to an institution.\n",
      "\n",
      "Obligor: The party in a contract who is obligated to provide payment or services.\n",
      "\n",
      "Obligee: The party in a contract to whom an obligation is owed.\n",
      "\n",
      "Collateral: Assets pledged by a borrower to secure a loan or other credit.\n",
      "\n",
      "Lien: A legal right or interest that a lender has in the borrower's property, granted until the debt obligation is satisfied.\n",
      "\n",
      "Indemnity: A contractual obligation of one party to compensate the loss incurred to the other party due to the acts of the indemnitor or any other party.\n",
      "\n",
      "Arbitration: A method of dispute resolution where an impartial third party, the arbitrator, makes a decision to resolve the conflict outside of court.\n",
      "\n",
      "Breach of Contract: A violation of any of the agreed-upon terms and conditions of a binding contract.\n",
      "\n",
      "Due Diligence: An investigation or audit of a potential investment or product to confirm all facts, such as reviewing financial records.\n",
      "\n",
      "Force Majeure: A clause that frees both parties from liability or obligation when an extraordinary event or circumstance beyond their control occurs.\n",
      "\n",
      "Intellectual Property: Creations of the mind, such as inventions, literary and artistic works, designs, and symbols, names, and images used in commerce.\n",
      "\n",
      "Non-Disclosure Agreement (NDA): A legally binding contract establishing a confidential relationship between parties to protect any type of confidential and proprietary information or trade secrets.\n",
      "\n",
      "Partnership: A business arrangement where two or more individuals share ownership and the responsibility for managing the company.\n",
      "\n",
      "Shareholder: An individual or institution that legally owns one or more shares of stock in a public or private corporation.\n",
      "\n",
      "Tenure: The period or term during which an individual holds a position or office.\n",
      "\n"
     ]
    }
   ],
   "execution_count": 23
  },
  {
   "metadata": {
    "ExecuteTime": {
     "end_time": "2024-07-05T02:32:55.428714Z",
     "start_time": "2024-07-05T02:32:55.419797Z"
    }
   },
   "cell_type": "code",
   "source": "print(keywords_definitions[\"Term Date\"])",
   "id": "d5f6bfde7f2083be",
   "outputs": [
    {
     "ename": "KeyError",
     "evalue": "'Term Date'",
     "output_type": "error",
     "traceback": [
      "\u001B[1;31m---------------------------------------------------------------------------\u001B[0m",
      "\u001B[1;31mKeyError\u001B[0m                                  Traceback (most recent call last)",
      "Cell \u001B[1;32mIn[25], line 1\u001B[0m\n\u001B[1;32m----> 1\u001B[0m \u001B[38;5;28mprint\u001B[39m(\u001B[43mkeywords_definitions\u001B[49m\u001B[43m[\u001B[49m\u001B[38;5;124;43m\"\u001B[39;49m\u001B[38;5;124;43mTerm Date\u001B[39;49m\u001B[38;5;124;43m\"\u001B[39;49m\u001B[43m]\u001B[49m)\n",
      "\u001B[1;31mKeyError\u001B[0m: 'Term Date'"
     ]
    }
   ],
   "execution_count": 25
  },
  {
   "metadata": {
    "ExecuteTime": {
     "end_time": "2024-07-05T02:19:35.446502Z",
     "start_time": "2024-07-05T02:19:35.432877Z"
    }
   },
   "cell_type": "code",
   "source": [
    "import yaml\n",
    "\n",
    "def sanitize_filename(filename):\n",
    "    \"\"\"Sanitize the string to make it a valid filename.\"\"\"\n",
    "    return re.sub(r'[\\\\/*?:\"<>|]', \"\", filename)[:255]\n",
    "\n",
    "print(len(keywords_definitions))\n",
    "for keyword, definition in keywords_definitions.items():\n",
    "    filename = sanitize_filename(keyword) + '.yaml'\n",
    "    with open(filename, 'w') as file:\n",
    "        print(keywords_definitions.items())\n",
    "        print(f\"Creating file: {filename}\")\n",
    "        yaml.dump({keyword: definition}, file, default_flow_style=False)"
   ],
   "id": "90157ba8c1fb970c",
   "outputs": [
    {
     "name": "stdout",
     "output_type": "stream",
     "text": [
      "1\n",
      "dict_items([('Title', \"An official designation of an individual's position or job role within an organization.\\n\\nTerm Date: The date on which a contract or agreement is set to expire or terminate.\\n\\nGuarantor: An individual or entity that agrees to be responsible for another's debt or obligations in case of default.\\n\\nApplicant: A person who applies for something, such as a job, a loan, or admission to an institution.\\n\\nObligor: The party in a contract who is obligated to provide payment or services.\\n\\nObligee: The party in a contract to whom an obligation is owed.\\n\\nCollateral: Assets pledged by a borrower to secure a loan or other credit.\\n\\nLien: A legal right or interest that a lender has in the borrower's property, granted until the debt obligation is satisfied.\\n\\nIndemnity: A contractual obligation of one party to compensate the loss incurred to the other party due to the acts of the indemnitor or any other party.\\n\\nArbitration: A method of dispute resolution where an impartial third party, the arbitrator, makes a decision to resolve the conflict outside of court.\\n\\nBreach of Contract: A violation of any of the agreed-upon terms and conditions of a binding contract.\\n\\nDue Diligence: An investigation or audit of a potential investment or product to confirm all facts, such as reviewing financial records.\\n\\nForce Majeure: A clause that frees both parties from liability or obligation when an extraordinary event or circumstance beyond their control occurs.\\n\\nIntellectual Property: Creations of the mind, such as inventions, literary and artistic works, designs, and symbols, names, and images used in commerce.\\n\\nNon-Disclosure Agreement (NDA): A legally binding contract establishing a confidential relationship between parties to protect any type of confidential and proprietary information or trade secrets.\\n\\nPartnership: A business arrangement where two or more individuals share ownership and the responsibility for managing the company.\\n\\nShareholder: An individual or institution that legally owns one or more shares of stock in a public or private corporation.\\n\\nTenure: The period or term during which an individual holds a position or office.\")])\n",
      "Creating file: Title.yaml\n"
     ]
    }
   ],
   "execution_count": 10
  },
  {
   "metadata": {},
   "cell_type": "code",
   "source": [
    "# Let's try semantic chunking\n",
    "from langchain_experimental.text_splitter import SemanticChunker\n",
    "from langchain_openai.embeddings import OpenAIEmbeddings\n",
    "text_splitter = SemanticChunker(OpenAIEmbeddings())"
   ],
   "id": "e077a80b9df0684a",
   "outputs": [],
   "execution_count": null
  },
  {
   "metadata": {},
   "cell_type": "code",
   "source": [
    "docs = text_splitter.create_documents([documents[0].page_content])\n",
    "print(docs[0].page_content)"
   ],
   "id": "12f596390e1f478c",
   "outputs": [],
   "execution_count": null
  },
  {
   "cell_type": "code",
   "id": "7b8a6f7a51ce04b",
   "metadata": {},
   "source": [
    "vectorstore_from_docs = PineconeVectorStore.from_documents(\n",
    "        documents,\n",
    "        index_name=PINECONE_INDEX_NAME,\n",
    "        embedding=embeddings\n",
    "    )"
   ],
   "outputs": [],
   "execution_count": null
  },
  {
   "metadata": {},
   "cell_type": "code",
   "source": [
    "# Example using a list of strings instead of a document\n",
    "texts = [\"Tonight, I call on the Senate to: Pass the Freedom to Vote Act.\", \"ne of the most serious constitutional responsibilities a President has is nominating someone to serve on the United States Supreme Court.\", \"One of our nation’s top legal minds, who will continue Justice Breyer’s legacy of excellence.\"]\n",
    "\n",
    "vectorstore_from_texts = PineconeVectorStore.from_texts(\n",
    "    texts, index_name=index_name, embedding=embeddings\n",
    ")"
   ],
   "id": "ab6bb5a01b299448",
   "outputs": [],
   "execution_count": null
  }
 ],
 "metadata": {
  "kernelspec": {
   "display_name": "document-parser",
   "language": "python",
   "name": "document-parser"
  },
  "language_info": {
   "codemirror_mode": {
    "name": "ipython",
    "version": 3
   },
   "file_extension": ".py",
   "mimetype": "text/x-python",
   "name": "python",
   "nbconvert_exporter": "python",
   "pygments_lexer": "ipython3",
   "version": "3.11.9"
  }
 },
 "nbformat": 4,
 "nbformat_minor": 5
}
