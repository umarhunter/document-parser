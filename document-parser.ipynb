{
 "cells": [
  {
   "cell_type": "markdown",
   "id": "4529ce75333494b4",
   "metadata": {},
   "source": [
    "#### What does Langchain do?\n",
    "```document-parser``` is a tool that splits a structured document into smaller chunks. This is done using ```regex``` and ```langchain```, an open-source framework that stores those embeddings (which are now vector representations of the text) into a vector database. This tool is useful for searching and retrieving information from a large document, and may have significant use-cases in GPT/LLM evaluations. The way langchain works is that a user creates a query, this query gets sent to the LLM and a vector representation of that query is used to do a similarity search inside the vector database. This'll fetch the relevant chunks of information from the vector database and feed that into the LLM. Now the LLM has the initial query and the relevant chunks of information to generate a response. This response is then sent back to the user.  "
   ]
  },
  {
   "metadata": {},
   "cell_type": "code",
   "outputs": [],
   "execution_count": null,
   "source": "",
   "id": "9f2ec288a750b2ce"
  },
  {
   "cell_type": "code",
   "id": "70ebafab6086e4d4",
   "metadata": {
    "ExecuteTime": {
     "end_time": "2024-07-06T14:54:05.115181Z",
     "start_time": "2024-07-06T14:54:05.108522Z"
    }
   },
   "source": [
    "import sys\n",
    "print(sys.version)\n",
    "from dotenv import load_dotenv\n",
    "load_dotenv()\n",
    "\n",
    "from os import getenv\n",
    "\n",
    "# retrieve the API keys from the environment variables\n",
    "OPENAI_API_KEY = getenv(\"OPENAI_API_KEY\")\n",
    "PINECONE_API_KEY = getenv(\"PINECONE_API_KEY\")\n",
    "PINECONE_INDEX_NAME = getenv(\"PINECONE_INDEX_NAME\")"
   ],
   "outputs": [
    {
     "name": "stdout",
     "output_type": "stream",
     "text": [
      "3.11.9 | packaged by conda-forge | (main, Apr 19 2024, 18:27:10) [MSC v.1938 64 bit (AMD64)]\n"
     ]
    }
   ],
   "execution_count": 2
  },
  {
   "cell_type": "code",
   "id": "4c1b4373f579bb07",
   "metadata": {
    "ExecuteTime": {
     "end_time": "2024-07-06T02:03:56.758842Z",
     "start_time": "2024-07-06T02:03:56.643845Z"
    }
   },
   "source": [
    "from pinecone.grpc import PineconeGRPC as Pinecone\n",
    "from pinecone import ServerlessSpec\n",
    "pc = Pinecone(api_key=PINECONE_API_KEY)"
   ],
   "outputs": [
    {
     "name": "stderr",
     "output_type": "stream",
     "text": [
      "C:\\Users\\educa\\miniforge3\\envs\\document-parser\\Lib\\site-packages\\pinecone\\data\\index.py:1: TqdmWarning: IProgress not found. Please update jupyter and ipywidgets. See https://ipywidgets.readthedocs.io/en/stable/user_install.html\n",
      "  from tqdm.autonotebook import tqdm\n"
     ]
    }
   ],
   "execution_count": 3
  },
  {
   "metadata": {
    "ExecuteTime": {
     "end_time": "2024-07-06T02:03:57.757795Z",
     "start_time": "2024-07-06T02:03:56.758842Z"
    }
   },
   "cell_type": "code",
   "source": [
    "from langchain_pinecone import PineconeVectorStore\n",
    "from langchain_openai import OpenAIEmbeddings\n",
    "from langchain_community.document_loaders import TextLoader\n",
    "from langchain_text_splitters import CharacterTextSplitter\n",
    "\n",
    "embeddings = OpenAIEmbeddings()"
   ],
   "id": "e25563d302ed8dad",
   "outputs": [],
   "execution_count": 4
  },
  {
   "metadata": {},
   "cell_type": "markdown",
   "source": "Convert the Word document into a Langchain Document class object",
   "id": "7a012245ce2cb6d9"
  },
  {
   "metadata": {
    "ExecuteTime": {
     "end_time": "2024-07-06T02:03:58.902618Z",
     "start_time": "2024-07-06T02:03:57.758797Z"
    }
   },
   "cell_type": "code",
   "source": [
    "%pip install --upgrade --quiet  docx2txt\n",
    "from langchain_community.document_loaders import Docx2txtLoader\n",
    "\n",
    "loader = Docx2txtLoader(\"./docs/business_terms.docx\")\n",
    "\n",
    "data = loader.load()\n",
    "\n",
    "data"
   ],
   "id": "e7f20dd1ef5eaa49",
   "outputs": [
    {
     "name": "stdout",
     "output_type": "stream",
     "text": [
      "Note: you may need to restart the kernel to use updated packages.\n"
     ]
    },
    {
     "data": {
      "text/plain": [
       "[Document(metadata={'source': './docs/business_terms.docx'}, page_content=\"Title: An official designation of an individual's position or job role within an organization.\\n\\nTerm Date: The date on which a contract or agreement is set to expire or terminate.\\n\\nGuarantor: An individual or entity that agrees to be responsible for another's debt or obligations in case of default.\\n\\nApplicant: A person who applies for something, such as a job, a loan, or admission to an institution.\\n\\nObligor: The party in a contract who is obligated to provide payment or services.\\n\\nObligee: The party in a contract to whom an obligation is owed.\\n\\nCollateral: Assets pledged by a borrower to secure a loan or other credit.\\n\\nLien: A legal right or interest that a lender has in the borrower's property, granted until the debt obligation is satisfied.\\n\\nIndemnity: A contractual obligation of one party to compensate the loss incurred to the other party due to the acts of the indemnitor or any other party.\\n\\nArbitration: A method of dispute resolution where an impartial third party, the arbitrator, makes a decision to resolve the conflict outside of court.\\n\\nBreach of Contract: A violation of any of the agreed-upon terms and conditions of a binding contract.\\n\\nDue Diligence: An investigation or audit of a potential investment or product to confirm all facts, such as reviewing financial records.\\n\\nForce Majeure: A clause that frees both parties from liability or obligation when an extraordinary event or circumstance beyond their control occurs.\\n\\nIntellectual Property: Creations of the mind, such as inventions, literary and artistic works, designs, and symbols, names, and images used in commerce.\\n\\nNon-Disclosure Agreement (NDA): A legally binding contract establishing a confidential relationship between parties to protect any type of confidential and proprietary information or trade secrets.\\n\\nPartnership: A business arrangement where two or more individuals share ownership and the responsibility for managing the company.\\n\\nShareholder: An individual or institution that legally owns one or more shares of stock in a public or private corporation.\\n\\nTenure: The period or term during which an individual holds a position or office.\")]"
      ]
     },
     "execution_count": 5,
     "metadata": {},
     "output_type": "execute_result"
    }
   ],
   "execution_count": 5
  },
  {
   "metadata": {},
   "cell_type": "markdown",
   "source": "The Document object has a data member page_content that contains all the text from the document. We want to now parse this text into smaller chunks. We want to create new Document class objects such that each keyword with definition is a separate Document object. Afterwards we'll put it in our vector database.",
   "id": "79be0e63586f68bb"
  },
  {
   "metadata": {
    "ExecuteTime": {
     "end_time": "2024-07-06T02:03:58.907566Z",
     "start_time": "2024-07-06T02:03:58.902618Z"
    }
   },
   "cell_type": "code",
   "source": [
    "import regex as re\n",
    "\n",
    "# the string containing keywords and definitions\n",
    "page_content = data[0].page_content\n",
    "\n",
    "# regex that'll match a keyword followed by a colon and a definition\n",
    "pattern = r\"(?<=^|\\n)([\\w\\s/()]+?):\\s*(.*?)(?=\\n[\\w\\s/()]+?:|\\Z)\"\n",
    "\n",
    "# find all matches of the pattern in the page_content string\n",
    "matches = re.findall(pattern, page_content, re.DOTALL)\n",
    "\n",
    "# Convert matches to a dictionary\n",
    "keywords_definitions = {keyword.strip(): definition.strip() for keyword, definition in matches}\n",
    "\n",
    "# Example usage: print each keyword and its definition\n",
    "for keyword, definition in keywords_definitions.items():\n",
    "    print(f\"{keyword}: {definition}\\n\")"
   ],
   "id": "640bb52e248cb808",
   "outputs": [
    {
     "name": "stdout",
     "output_type": "stream",
     "text": [
      "Title: An official designation of an individual's position or job role within an organization.\n",
      "\n",
      "Term Date: The date on which a contract or agreement is set to expire or terminate.\n",
      "\n",
      "Guarantor: An individual or entity that agrees to be responsible for another's debt or obligations in case of default.\n",
      "\n",
      "Applicant: A person who applies for something, such as a job, a loan, or admission to an institution.\n",
      "\n",
      "Obligor: The party in a contract who is obligated to provide payment or services.\n",
      "\n",
      "Obligee: The party in a contract to whom an obligation is owed.\n",
      "\n",
      "Collateral: Assets pledged by a borrower to secure a loan or other credit.\n",
      "\n",
      "Lien: A legal right or interest that a lender has in the borrower's property, granted until the debt obligation is satisfied.\n",
      "\n",
      "Indemnity: A contractual obligation of one party to compensate the loss incurred to the other party due to the acts of the indemnitor or any other party.\n",
      "\n",
      "Arbitration: A method of dispute resolution where an impartial third party, the arbitrator, makes a decision to resolve the conflict outside of court.\n",
      "\n",
      "Breach of Contract: A violation of any of the agreed-upon terms and conditions of a binding contract.\n",
      "\n",
      "Due Diligence: An investigation or audit of a potential investment or product to confirm all facts, such as reviewing financial records.\n",
      "\n",
      "Force Majeure: A clause that frees both parties from liability or obligation when an extraordinary event or circumstance beyond their control occurs.\n",
      "\n",
      "Intellectual Property: Creations of the mind, such as inventions, literary and artistic works, designs, and symbols, names, and images used in commerce.\n",
      "\n",
      "Non-Disclosure Agreement (NDA): A legally binding contract establishing a confidential relationship between parties to protect any type of confidential and proprietary information or trade secrets.\n",
      "\n",
      "Partnership: A business arrangement where two or more individuals share ownership and the responsibility for managing the company.\n",
      "\n",
      "Shareholder: An individual or institution that legally owns one or more shares of stock in a public or private corporation.\n",
      "\n",
      "Tenure: The period or term during which an individual holds a position or office.\n",
      "\n"
     ]
    }
   ],
   "execution_count": 6
  },
  {
   "metadata": {},
   "cell_type": "markdown",
   "source": "Export all the keywords and definitions to a .txt file. The goal is to prevent any missing data. When reading in the text file, it should be easier to load.",
   "id": "9fe31586af11ba6c"
  },
  {
   "metadata": {
    "ExecuteTime": {
     "end_time": "2024-07-06T02:04:01.330244Z",
     "start_time": "2024-07-06T02:04:01.327732Z"
    }
   },
   "cell_type": "code",
   "source": [
    "# Open a new .txt file in write mode\n",
    "with open('keywords_definitions.txt', 'w') as file:\n",
    "    # Iterate through the keywords_definitions dictionary\n",
    "    for keyword, definition in keywords_definitions.items():\n",
    "        # Write the keyword and its definition to the file\n",
    "        file.write(f\"{keyword}: {definition}\\n\\n\")"
   ],
   "id": "d5f6bfde7f2083be",
   "outputs": [],
   "execution_count": 7
  },
  {
   "metadata": {},
   "cell_type": "markdown",
   "source": "Load in the text file and parse the data into a dictionary again.",
   "id": "fe79b63cfa481cce"
  },
  {
   "metadata": {
    "ExecuteTime": {
     "end_time": "2024-07-06T02:22:49.096575Z",
     "start_time": "2024-07-06T02:22:49.092344Z"
    }
   },
   "cell_type": "code",
   "source": [
    "def read_keywords_from_file(file_path):\n",
    "    keywords_dict = {}\n",
    "    with open(file_path, 'r') as file:\n",
    "        for line in file:\n",
    "            if ':' in line:  # Ensure the line contains a colon\n",
    "                keyword, definition = line.split(':', 1)  # Split on the first colon only\n",
    "                keywords_dict[keyword.strip()] = definition.strip()\n",
    "    return keywords_dict\n",
    "\n",
    "# Example usage\n",
    "file_path = 'keywords_definitions.txt'\n",
    "keywords_definitions = read_keywords_from_file(file_path)\n",
    "print(keywords_definitions)"
   ],
   "id": "570ee1108edca67",
   "outputs": [
    {
     "name": "stdout",
     "output_type": "stream",
     "text": [
      "{'Title': \"An official designation of an individual's position or job role within an organization.\", 'Term Date': 'The date on which a contract or agreement is set to expire or terminate.', 'Guarantor': \"An individual or entity that agrees to be responsible for another's debt or obligations in case of default.\", 'Applicant': 'A person who applies for something, such as a job, a loan, or admission to an institution.', 'Obligor': 'The party in a contract who is obligated to provide payment or services.', 'Obligee': 'The party in a contract to whom an obligation is owed.', 'Collateral': 'Assets pledged by a borrower to secure a loan or other credit.', 'Lien': \"A legal right or interest that a lender has in the borrower's property, granted until the debt obligation is satisfied.\", 'Indemnity': 'A contractual obligation of one party to compensate the loss incurred to the other party due to the acts of the indemnitor or any other party.', 'Arbitration': 'A method of dispute resolution where an impartial third party, the arbitrator, makes a decision to resolve the conflict outside of court.', 'Breach of Contract': 'A violation of any of the agreed-upon terms and conditions of a binding contract.', 'Due Diligence': 'An investigation or audit of a potential investment or product to confirm all facts, such as reviewing financial records.', 'Force Majeure': 'A clause that frees both parties from liability or obligation when an extraordinary event or circumstance beyond their control occurs.', 'Intellectual Property': 'Creations of the mind, such as inventions, literary and artistic works, designs, and symbols, names, and images used in commerce.', 'Non-Disclosure Agreement (NDA)': 'A legally binding contract establishing a confidential relationship between parties to protect any type of confidential and proprietary information or trade secrets.', 'Partnership': 'A business arrangement where two or more individuals share ownership and the responsibility for managing the company.', 'Shareholder': 'An individual or institution that legally owns one or more shares of stock in a public or private corporation.', 'Tenure': 'The period or term during which an individual holds a position or office.'}\n"
     ]
    }
   ],
   "execution_count": 8
  },
  {
   "metadata": {},
   "cell_type": "markdown",
   "source": "As we can see now, \"Non-Disclosure Agreement (NDA)\" is a key in the dictionary. As of right now, every definition from the document is accounted for. We can now export each keyword and definition to a separate .yaml file.",
   "id": "946f11097d3f5bf9"
  },
  {
   "metadata": {
    "ExecuteTime": {
     "end_time": "2024-07-06T02:23:16.139144Z",
     "start_time": "2024-07-06T02:23:16.136971Z"
    }
   },
   "cell_type": "code",
   "source": "print(keywords_definitions['Non-Disclosure Agreement (NDA)'])",
   "id": "4fe81f5a2da91afd",
   "outputs": [
    {
     "name": "stdout",
     "output_type": "stream",
     "text": [
      "A legally binding contract establishing a confidential relationship between parties to protect any type of confidential and proprietary information or trade secrets.\n"
     ]
    }
   ],
   "execution_count": 10
  },
  {
   "metadata": {},
   "cell_type": "code",
   "source": [
    "import yaml\n",
    "\n",
    "def sanitize_filename(filename):\n",
    "    \"\"\"Sanitize the string to make it a valid filename.\"\"\"\n",
    "    return re.sub(r'[\\\\/*?:\"<>|]', \"\", filename)[:255]\n",
    "\n",
    "print(len(keywords_definitions))\n",
    "for keyword, definition in keywords_definitions.items():\n",
    "    filename = sanitize_filename(keyword) + '.yaml'\n",
    "    filename = \"./results/\" + filename\n",
    "    with open(filename, 'w') as file:\n",
    "        print(f\"Creating file: {filename}\")\n",
    "        yaml.dump({keyword: definition}, file, default_flow_style=False)"
   ],
   "id": "90157ba8c1fb970c",
   "outputs": [],
   "execution_count": null
  },
  {
   "cell_type": "code",
   "id": "7b8a6f7a51ce04b",
   "metadata": {
    "ExecuteTime": {
     "end_time": "2024-07-06T02:32:38.861764Z",
     "start_time": "2024-07-06T02:32:38.846194Z"
    }
   },
   "source": [
    "# Function to convert text to vector\n",
    "def text_to_vector(text):\n",
    "    return embeddings.embed([text])[0]\n",
    "\n",
    "# Upload data to Pinecone\n",
    "for keyword, definition in keywords_definitions.items():\n",
    "    # Convert keyword or definition to vector. Here we use definition as an example.\n",
    "    vector = text_to_vector(definition)\n",
    "    # Upload the vector to Pinecone with the keyword as its ID\n",
    "    PINECONE_INDEX_NAME.upsert(vectors=[(keyword, vector)])\n",
    "\n",
    "print(\"Upload complete.\")"
   ],
   "outputs": [
    {
     "ename": "AttributeError",
     "evalue": "'OpenAIEmbeddings' object has no attribute 'embed'",
     "output_type": "error",
     "traceback": [
      "\u001B[1;31m---------------------------------------------------------------------------\u001B[0m",
      "\u001B[1;31mAttributeError\u001B[0m                            Traceback (most recent call last)",
      "Cell \u001B[1;32mIn[12], line 8\u001B[0m\n\u001B[0;32m      5\u001B[0m \u001B[38;5;66;03m# Upload data to Pinecone\u001B[39;00m\n\u001B[0;32m      6\u001B[0m \u001B[38;5;28;01mfor\u001B[39;00m keyword, definition \u001B[38;5;129;01min\u001B[39;00m keywords_definitions\u001B[38;5;241m.\u001B[39mitems():\n\u001B[0;32m      7\u001B[0m     \u001B[38;5;66;03m# Convert keyword or definition to vector. Here we use definition as an example.\u001B[39;00m\n\u001B[1;32m----> 8\u001B[0m     vector \u001B[38;5;241m=\u001B[39m \u001B[43mtext_to_vector\u001B[49m\u001B[43m(\u001B[49m\u001B[43mdefinition\u001B[49m\u001B[43m)\u001B[49m\n\u001B[0;32m      9\u001B[0m     \u001B[38;5;66;03m# Upload the vector to Pinecone with the keyword as its ID\u001B[39;00m\n\u001B[0;32m     10\u001B[0m     PINECONE_INDEX_NAME\u001B[38;5;241m.\u001B[39mupsert(vectors\u001B[38;5;241m=\u001B[39m[(keyword, vector)])\n",
      "Cell \u001B[1;32mIn[12], line 3\u001B[0m, in \u001B[0;36mtext_to_vector\u001B[1;34m(text)\u001B[0m\n\u001B[0;32m      2\u001B[0m \u001B[38;5;28;01mdef\u001B[39;00m \u001B[38;5;21mtext_to_vector\u001B[39m(text):\n\u001B[1;32m----> 3\u001B[0m     \u001B[38;5;28;01mreturn\u001B[39;00m \u001B[43membeddings\u001B[49m\u001B[38;5;241;43m.\u001B[39;49m\u001B[43membed\u001B[49m([text])[\u001B[38;5;241m0\u001B[39m]\n",
      "\u001B[1;31mAttributeError\u001B[0m: 'OpenAIEmbeddings' object has no attribute 'embed'"
     ]
    }
   ],
   "execution_count": 12
  }
 ],
 "metadata": {
  "kernelspec": {
   "display_name": "document-parser",
   "language": "python",
   "name": "document-parser"
  },
  "language_info": {
   "codemirror_mode": {
    "name": "ipython",
    "version": 3
   },
   "file_extension": ".py",
   "mimetype": "text/x-python",
   "name": "python",
   "nbconvert_exporter": "python",
   "pygments_lexer": "ipython3",
   "version": "3.11.9"
  }
 },
 "nbformat": 4,
 "nbformat_minor": 5
}
