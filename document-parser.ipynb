{
 "cells": [
  {
   "cell_type": "markdown",
   "id": "4529ce75333494b4",
   "metadata": {},
   "source": [
    "#### What does Langchain do?\n",
    "```document-parser``` is a tool that splits a structured document into smaller chunks. This is done using ```regex``` and ```langchain```, an open-source framework that stores those embeddings (which are now vector representations of the text) into a vector database. This tool is useful for searching and retrieving information from a large document, and may have significant use-cases in GPT/LLM evaluations. The way langchain works is that a user creates a query, this query gets sent to the LLM and a vector representation of that query is used to do a similarity search inside the vector database. This'll fetch the relevant chunks of information from the vector database and feed that into the LLM. Now the LLM has the initial query and the relevant chunks of information to generate a response. This response is then sent back to the user.  "
   ]
  },
  {
   "cell_type": "code",
   "id": "70ebafab6086e4d4",
   "metadata": {
    "ExecuteTime": {
     "end_time": "2024-07-07T12:32:20.105360Z",
     "start_time": "2024-07-07T12:32:20.096757Z"
    }
   },
   "source": [
    "import sys\n",
    "print(sys.version)\n",
    "from dotenv import load_dotenv\n",
    "load_dotenv()\n",
    "\n",
    "from os import getenv\n",
    "\n",
    "# retrieve the API keys from the environment variables\n",
    "OPENAI_API_KEY = getenv(\"OPENAI_API_KEY\")\n",
    "PINECONE_API_KEY = getenv(\"PINECONE_API_KEY\")\n",
    "PINECONE_INDEX_NAME = getenv(\"PINECONE_INDEX_NAME\")"
   ],
   "outputs": [
    {
     "name": "stdout",
     "output_type": "stream",
     "text": [
      "3.11.9 | packaged by conda-forge | (main, Apr 19 2024, 18:27:10) [MSC v.1938 64 bit (AMD64)]\n"
     ]
    }
   ],
   "execution_count": 3
  },
  {
   "cell_type": "code",
   "id": "4c1b4373f579bb07",
   "metadata": {
    "ExecuteTime": {
     "end_time": "2024-07-07T12:32:21.223243Z",
     "start_time": "2024-07-07T12:32:21.149684Z"
    }
   },
   "source": [
    "from pinecone.grpc import PineconeGRPC as Pinecone\n",
    "from pinecone import ServerlessSpec\n",
    "pc = Pinecone(api_key=PINECONE_API_KEY)"
   ],
   "outputs": [],
   "execution_count": 4
  },
  {
   "metadata": {
    "ExecuteTime": {
     "end_time": "2024-07-07T12:32:36.755975Z",
     "start_time": "2024-07-07T12:32:35.985058Z"
    }
   },
   "cell_type": "code",
   "source": [
    "from langchain_openai import OpenAIEmbeddings\n",
    "\n",
    "\n",
    "embeddings = OpenAIEmbeddings()"
   ],
   "id": "e25563d302ed8dad",
   "outputs": [],
   "execution_count": 6
  },
  {
   "metadata": {},
   "cell_type": "markdown",
   "source": "Convert the Word document into a Langchain Document class object",
   "id": "7a012245ce2cb6d9"
  },
  {
   "metadata": {
    "ExecuteTime": {
     "end_time": "2024-07-07T02:12:40.372102Z",
     "start_time": "2024-07-07T02:12:38.126098Z"
    }
   },
   "cell_type": "code",
   "source": [
    "%pip install --upgrade --quiet  docx2txt\n",
    "from langchain_community.document_loaders import Docx2txtLoader\n",
    "\n",
    "loader = Docx2txtLoader(\"./docs/business_terms.docx\")\n",
    "\n",
    "data = loader.load()\n",
    "\n",
    "data"
   ],
   "id": "e7f20dd1ef5eaa49",
   "outputs": [
    {
     "name": "stdout",
     "output_type": "stream",
     "text": [
      "Note: you may need to restart the kernel to use updated packages.\n"
     ]
    },
    {
     "data": {
      "text/plain": [
       "[Document(metadata={'source': './docs/business_terms.docx'}, page_content=\"Title: An official designation of an individual's position or job role within an organization.\\n\\nTerm Date: The date on which a contract or agreement is set to expire or terminate.\\n\\nGuarantor: An individual or entity that agrees to be responsible for another's debt or obligations in case of default.\\n\\nApplicant: A person who applies for something, such as a job, a loan, or admission to an institution.\\n\\nObligor: The party in a contract who is obligated to provide payment or services.\\n\\nObligee: The party in a contract to whom an obligation is owed.\\n\\nCollateral: Assets pledged by a borrower to secure a loan or other credit.\\n\\nLien: A legal right or interest that a lender has in the borrower's property, granted until the debt obligation is satisfied.\\n\\nIndemnity: A contractual obligation of one party to compensate the loss incurred to the other party due to the acts of the indemnitor or any other party.\\n\\nArbitration: A method of dispute resolution where an impartial third party, the arbitrator, makes a decision to resolve the conflict outside of court.\\n\\nBreach of Contract: A violation of any of the agreed-upon terms and conditions of a binding contract.\\n\\nDue Diligence: An investigation or audit of a potential investment or product to confirm all facts, such as reviewing financial records.\\n\\nForce Majeure: A clause that frees both parties from liability or obligation when an extraordinary event or circumstance beyond their control occurs.\\n\\nIntellectual Property: Creations of the mind, such as inventions, literary and artistic works, designs, and symbols, names, and images used in commerce.\\n\\nNon-Disclosure Agreement (NDA): A legally binding contract establishing a confidential relationship between parties to protect any type of confidential and proprietary information or trade secrets.\\n\\nPartnership: A business arrangement where two or more individuals share ownership and the responsibility for managing the company.\\n\\nShareholder: An individual or institution that legally owns one or more shares of stock in a public or private corporation.\\n\\nTenure: The period or term during which an individual holds a position or office.\")]"
      ]
     },
     "execution_count": 4,
     "metadata": {},
     "output_type": "execute_result"
    }
   ],
   "execution_count": 4
  },
  {
   "metadata": {},
   "cell_type": "markdown",
   "source": "The Document object has a data member page_content that contains all the text from the document. We want to now parse this text into smaller chunks. We want to create new Document class objects such that each keyword with definition is a separate Document object. Afterwards we'll put it in our vector database.",
   "id": "79be0e63586f68bb"
  },
  {
   "metadata": {
    "ExecuteTime": {
     "end_time": "2024-07-07T02:12:40.376250Z",
     "start_time": "2024-07-07T02:12:40.372102Z"
    }
   },
   "cell_type": "code",
   "source": [
    "import regex as re\n",
    "\n",
    "# the string containing keywords and definitions\n",
    "page_content = data[0].page_content\n",
    "\n",
    "# regex that'll match a keyword followed by a colon and a definition\n",
    "pattern = r\"(?<=^|\\n)([\\w\\s/()]+?):\\s*(.*?)(?=\\n[\\w\\s/()]+?:|\\Z)\"\n",
    "\n",
    "# find all matches of the pattern in the page_content string\n",
    "matches = re.findall(pattern, page_content, re.DOTALL)\n",
    "\n",
    "# Convert matches to a dictionary\n",
    "keywords_definitions = {keyword.strip(): definition.strip() for keyword, definition in matches}\n",
    "\n",
    "# Example usage: print each keyword and its definition\n",
    "for keyword, definition in keywords_definitions.items():\n",
    "    print(f\"{keyword}: {definition}\\n\")"
   ],
   "id": "640bb52e248cb808",
   "outputs": [
    {
     "name": "stdout",
     "output_type": "stream",
     "text": [
      "Title: An official designation of an individual's position or job role within an organization.\n",
      "\n",
      "Term Date: The date on which a contract or agreement is set to expire or terminate.\n",
      "\n",
      "Guarantor: An individual or entity that agrees to be responsible for another's debt or obligations in case of default.\n",
      "\n",
      "Applicant: A person who applies for something, such as a job, a loan, or admission to an institution.\n",
      "\n",
      "Obligor: The party in a contract who is obligated to provide payment or services.\n",
      "\n",
      "Obligee: The party in a contract to whom an obligation is owed.\n",
      "\n",
      "Collateral: Assets pledged by a borrower to secure a loan or other credit.\n",
      "\n",
      "Lien: A legal right or interest that a lender has in the borrower's property, granted until the debt obligation is satisfied.\n",
      "\n",
      "Indemnity: A contractual obligation of one party to compensate the loss incurred to the other party due to the acts of the indemnitor or any other party.\n",
      "\n",
      "Arbitration: A method of dispute resolution where an impartial third party, the arbitrator, makes a decision to resolve the conflict outside of court.\n",
      "\n",
      "Breach of Contract: A violation of any of the agreed-upon terms and conditions of a binding contract.\n",
      "\n",
      "Due Diligence: An investigation or audit of a potential investment or product to confirm all facts, such as reviewing financial records.\n",
      "\n",
      "Force Majeure: A clause that frees both parties from liability or obligation when an extraordinary event or circumstance beyond their control occurs.\n",
      "\n",
      "Intellectual Property: Creations of the mind, such as inventions, literary and artistic works, designs, and symbols, names, and images used in commerce.\n",
      "\n",
      "Non-Disclosure Agreement (NDA): A legally binding contract establishing a confidential relationship between parties to protect any type of confidential and proprietary information or trade secrets.\n",
      "\n",
      "Partnership: A business arrangement where two or more individuals share ownership and the responsibility for managing the company.\n",
      "\n",
      "Shareholder: An individual or institution that legally owns one or more shares of stock in a public or private corporation.\n",
      "\n",
      "Tenure: The period or term during which an individual holds a position or office.\n",
      "\n"
     ]
    }
   ],
   "execution_count": 5
  },
  {
   "metadata": {},
   "cell_type": "markdown",
   "source": "Export all the keywords and definitions to a .txt file. The goal is to prevent any missing data. When reading in the text file, it should be easier to load.",
   "id": "9fe31586af11ba6c"
  },
  {
   "metadata": {
    "ExecuteTime": {
     "end_time": "2024-07-07T02:12:40.382804Z",
     "start_time": "2024-07-07T02:12:40.376250Z"
    }
   },
   "cell_type": "code",
   "source": [
    "# Open a new .txt file in write mode\n",
    "with open('keywords_definitions.txt', 'w') as file:\n",
    "    # Iterate through the keywords_definitions dictionary\n",
    "    for keyword, definition in keywords_definitions.items():\n",
    "        # Write the keyword and its definition to the file\n",
    "        file.write(f\"{keyword}: {definition}\\n\\n\")"
   ],
   "id": "d5f6bfde7f2083be",
   "outputs": [],
   "execution_count": 6
  },
  {
   "metadata": {},
   "cell_type": "markdown",
   "source": "Load in the text file and parse the data into a dictionary again.",
   "id": "fe79b63cfa481cce"
  },
  {
   "metadata": {
    "ExecuteTime": {
     "end_time": "2024-07-07T02:12:40.393302Z",
     "start_time": "2024-07-07T02:12:40.382804Z"
    }
   },
   "cell_type": "code",
   "source": [
    "def read_keywords_from_file(file_path):\n",
    "    keywords_dict = {}\n",
    "    with open(file_path, 'r') as file:\n",
    "        for line in file:\n",
    "            if ':' in line:  # Ensure the line contains a colon\n",
    "                keyword, definition = line.split(':', 1)  # Split on the first colon only\n",
    "                keywords_dict[keyword.strip()] = definition.strip()\n",
    "    return keywords_dict\n",
    "\n",
    "# Example usage\n",
    "file_path = 'keywords_definitions.txt'\n",
    "keywords_definitions = read_keywords_from_file(file_path)\n",
    "print(keywords_definitions)"
   ],
   "id": "570ee1108edca67",
   "outputs": [
    {
     "name": "stdout",
     "output_type": "stream",
     "text": [
      "{'Title': \"An official designation of an individual's position or job role within an organization.\", 'Term Date': 'The date on which a contract or agreement is set to expire or terminate.', 'Guarantor': \"An individual or entity that agrees to be responsible for another's debt or obligations in case of default.\", 'Applicant': 'A person who applies for something, such as a job, a loan, or admission to an institution.', 'Obligor': 'The party in a contract who is obligated to provide payment or services.', 'Obligee': 'The party in a contract to whom an obligation is owed.', 'Collateral': 'Assets pledged by a borrower to secure a loan or other credit.', 'Lien': \"A legal right or interest that a lender has in the borrower's property, granted until the debt obligation is satisfied.\", 'Indemnity': 'A contractual obligation of one party to compensate the loss incurred to the other party due to the acts of the indemnitor or any other party.', 'Arbitration': 'A method of dispute resolution where an impartial third party, the arbitrator, makes a decision to resolve the conflict outside of court.', 'Breach of Contract': 'A violation of any of the agreed-upon terms and conditions of a binding contract.', 'Due Diligence': 'An investigation or audit of a potential investment or product to confirm all facts, such as reviewing financial records.', 'Force Majeure': 'A clause that frees both parties from liability or obligation when an extraordinary event or circumstance beyond their control occurs.', 'Intellectual Property': 'Creations of the mind, such as inventions, literary and artistic works, designs, and symbols, names, and images used in commerce.', 'Non-Disclosure Agreement (NDA)': 'A legally binding contract establishing a confidential relationship between parties to protect any type of confidential and proprietary information or trade secrets.', 'Partnership': 'A business arrangement where two or more individuals share ownership and the responsibility for managing the company.', 'Shareholder': 'An individual or institution that legally owns one or more shares of stock in a public or private corporation.', 'Tenure': 'The period or term during which an individual holds a position or office.'}\n"
     ]
    }
   ],
   "execution_count": 7
  },
  {
   "metadata": {},
   "cell_type": "markdown",
   "source": "As we can see now, \"Non-Disclosure Agreement (NDA)\" is a key in the dictionary. As of right now, every definition from the document is accounted for. We can now export each keyword and definition to a separate .yaml file.",
   "id": "946f11097d3f5bf9"
  },
  {
   "metadata": {
    "ExecuteTime": {
     "end_time": "2024-07-07T02:12:40.396546Z",
     "start_time": "2024-07-07T02:12:40.393302Z"
    }
   },
   "cell_type": "code",
   "source": "print(keywords_definitions['Non-Disclosure Agreement (NDA)'])",
   "id": "4fe81f5a2da91afd",
   "outputs": [
    {
     "name": "stdout",
     "output_type": "stream",
     "text": [
      "A legally binding contract establishing a confidential relationship between parties to protect any type of confidential and proprietary information or trade secrets.\n"
     ]
    }
   ],
   "execution_count": 8
  },
  {
   "metadata": {
    "ExecuteTime": {
     "end_time": "2024-07-07T02:12:40.410391Z",
     "start_time": "2024-07-07T02:12:40.396546Z"
    }
   },
   "cell_type": "code",
   "source": [
    "import yaml\n",
    "\n",
    "def sanitize_filename(filename):\n",
    "    \"\"\"Sanitize the string to make it a valid filename.\"\"\"\n",
    "    return re.sub(r'[\\\\/*?:\"<>|]', \"\", filename)[:255]\n",
    "\n",
    "print(len(keywords_definitions))\n",
    "for keyword, definition in keywords_definitions.items():\n",
    "    filename = sanitize_filename(keyword) + '.yaml'\n",
    "    filename = \"./results/\" + filename\n",
    "    with open(filename, 'w') as file:\n",
    "        print(f\"Creating file: {filename}\")\n",
    "        yaml.dump({keyword: definition}, file, default_flow_style=False)"
   ],
   "id": "90157ba8c1fb970c",
   "outputs": [
    {
     "name": "stdout",
     "output_type": "stream",
     "text": [
      "18\n",
      "Creating file: ./results/Title.yaml\n",
      "Creating file: ./results/Term Date.yaml\n",
      "Creating file: ./results/Guarantor.yaml\n",
      "Creating file: ./results/Applicant.yaml\n",
      "Creating file: ./results/Obligor.yaml\n",
      "Creating file: ./results/Obligee.yaml\n",
      "Creating file: ./results/Collateral.yaml\n",
      "Creating file: ./results/Lien.yaml\n",
      "Creating file: ./results/Indemnity.yaml\n",
      "Creating file: ./results/Arbitration.yaml\n",
      "Creating file: ./results/Breach of Contract.yaml\n",
      "Creating file: ./results/Due Diligence.yaml\n",
      "Creating file: ./results/Force Majeure.yaml\n",
      "Creating file: ./results/Intellectual Property.yaml\n",
      "Creating file: ./results/Non-Disclosure Agreement (NDA).yaml\n",
      "Creating file: ./results/Partnership.yaml\n",
      "Creating file: ./results/Shareholder.yaml\n",
      "Creating file: ./results/Tenure.yaml\n"
     ]
    }
   ],
   "execution_count": 9
  },
  {
   "metadata": {
    "ExecuteTime": {
     "end_time": "2024-07-07T12:50:22.804723Z",
     "start_time": "2024-07-07T12:50:21.722850Z"
    }
   },
   "cell_type": "code",
   "source": [
    "from langchain_text_splitters import CharacterTextSplitter\n",
    "from langchain_community.document_loaders import TextLoader\n",
    "from langchain_pinecone import PineconeVectorStore\n",
    "loader = TextLoader(\"keywords_definitions.txt\")\n",
    "documents = loader.load()\n",
    "text_splitter = CharacterTextSplitter(chunk_size=100, chunk_overlap=10)\n",
    "docs = text_splitter.split_documents(documents)"
   ],
   "id": "e91bfddbcca5e4fe",
   "outputs": [
    {
     "name": "stderr",
     "output_type": "stream",
     "text": [
      "Created a chunk of size 118, which is longer than the specified 100\n",
      "Created a chunk of size 101, which is longer than the specified 100\n",
      "Created a chunk of size 125, which is longer than the specified 100\n",
      "Created a chunk of size 153, which is longer than the specified 100\n",
      "Created a chunk of size 150, which is longer than the specified 100\n",
      "Created a chunk of size 101, which is longer than the specified 100\n",
      "Created a chunk of size 136, which is longer than the specified 100\n",
      "Created a chunk of size 149, which is longer than the specified 100\n",
      "Created a chunk of size 152, which is longer than the specified 100\n",
      "Created a chunk of size 197, which is longer than the specified 100\n",
      "Created a chunk of size 130, which is longer than the specified 100\n",
      "Created a chunk of size 123, which is longer than the specified 100\n"
     ]
    }
   ],
   "execution_count": 9
  },
  {
   "metadata": {},
   "cell_type": "markdown",
   "source": "Create a Pinecone vector store object from the documents",
   "id": "e8f20cb1907ee00a"
  },
  {
   "metadata": {
    "ExecuteTime": {
     "end_time": "2024-07-07T15:56:41.846964Z",
     "start_time": "2024-07-07T15:56:40.653545Z"
    }
   },
   "cell_type": "code",
   "source": [
    "vectorstore_from_texts = PineconeVectorStore.from_documents(\n",
    "        docs,\n",
    "        index_name=PINECONE_INDEX_NAME,\n",
    "        embedding=embeddings\n",
    "    )"
   ],
   "id": "ee949e240da54b5c",
   "outputs": [],
   "execution_count": 11
  },
  {
   "metadata": {
    "ExecuteTime": {
     "end_time": "2024-07-07T15:56:44.965099Z",
     "start_time": "2024-07-07T15:56:44.962457Z"
    }
   },
   "cell_type": "code",
   "source": "print(docs)",
   "id": "b97659511714916",
   "outputs": [
    {
     "name": "stdout",
     "output_type": "stream",
     "text": [
      "[Document(metadata={'source': 'keywords_definitions.txt', 'text': \"Title: An official designation of an individual's position or job role within an organization.\"}, page_content=\"Title: An official designation of an individual's position or job role within an organization.\"), Document(metadata={'source': 'keywords_definitions.txt', 'text': 'Term Date: The date on which a contract or agreement is set to expire or terminate.'}, page_content='Term Date: The date on which a contract or agreement is set to expire or terminate.'), Document(metadata={'source': 'keywords_definitions.txt', 'text': \"Guarantor: An individual or entity that agrees to be responsible for another's debt or obligations in case of default.\"}, page_content=\"Guarantor: An individual or entity that agrees to be responsible for another's debt or obligations in case of default.\"), Document(metadata={'source': 'keywords_definitions.txt', 'text': 'Applicant: A person who applies for something, such as a job, a loan, or admission to an institution.'}, page_content='Applicant: A person who applies for something, such as a job, a loan, or admission to an institution.'), Document(metadata={'source': 'keywords_definitions.txt', 'text': 'Obligor: The party in a contract who is obligated to provide payment or services.'}, page_content='Obligor: The party in a contract who is obligated to provide payment or services.'), Document(metadata={'source': 'keywords_definitions.txt', 'text': 'Obligee: The party in a contract to whom an obligation is owed.'}, page_content='Obligee: The party in a contract to whom an obligation is owed.'), Document(metadata={'source': 'keywords_definitions.txt', 'text': 'Collateral: Assets pledged by a borrower to secure a loan or other credit.'}, page_content='Collateral: Assets pledged by a borrower to secure a loan or other credit.'), Document(metadata={'source': 'keywords_definitions.txt', 'text': \"Lien: A legal right or interest that a lender has in the borrower's property, granted until the debt obligation is satisfied.\"}, page_content=\"Lien: A legal right or interest that a lender has in the borrower's property, granted until the debt obligation is satisfied.\"), Document(metadata={'source': 'keywords_definitions.txt', 'text': 'Indemnity: A contractual obligation of one party to compensate the loss incurred to the other party due to the acts of the indemnitor or any other party.'}, page_content='Indemnity: A contractual obligation of one party to compensate the loss incurred to the other party due to the acts of the indemnitor or any other party.'), Document(metadata={'source': 'keywords_definitions.txt', 'text': 'Arbitration: A method of dispute resolution where an impartial third party, the arbitrator, makes a decision to resolve the conflict outside of court.'}, page_content='Arbitration: A method of dispute resolution where an impartial third party, the arbitrator, makes a decision to resolve the conflict outside of court.'), Document(metadata={'source': 'keywords_definitions.txt', 'text': 'Breach of Contract: A violation of any of the agreed-upon terms and conditions of a binding contract.'}, page_content='Breach of Contract: A violation of any of the agreed-upon terms and conditions of a binding contract.'), Document(metadata={'source': 'keywords_definitions.txt', 'text': 'Due Diligence: An investigation or audit of a potential investment or product to confirm all facts, such as reviewing financial records.'}, page_content='Due Diligence: An investigation or audit of a potential investment or product to confirm all facts, such as reviewing financial records.'), Document(metadata={'source': 'keywords_definitions.txt', 'text': 'Force Majeure: A clause that frees both parties from liability or obligation when an extraordinary event or circumstance beyond their control occurs.'}, page_content='Force Majeure: A clause that frees both parties from liability or obligation when an extraordinary event or circumstance beyond their control occurs.'), Document(metadata={'source': 'keywords_definitions.txt', 'text': 'Intellectual Property: Creations of the mind, such as inventions, literary and artistic works, designs, and symbols, names, and images used in commerce.'}, page_content='Intellectual Property: Creations of the mind, such as inventions, literary and artistic works, designs, and symbols, names, and images used in commerce.'), Document(metadata={'source': 'keywords_definitions.txt', 'text': 'Non-Disclosure Agreement (NDA): A legally binding contract establishing a confidential relationship between parties to protect any type of confidential and proprietary information or trade secrets.'}, page_content='Non-Disclosure Agreement (NDA): A legally binding contract establishing a confidential relationship between parties to protect any type of confidential and proprietary information or trade secrets.'), Document(metadata={'source': 'keywords_definitions.txt', 'text': 'Partnership: A business arrangement where two or more individuals share ownership and the responsibility for managing the company.'}, page_content='Partnership: A business arrangement where two or more individuals share ownership and the responsibility for managing the company.'), Document(metadata={'source': 'keywords_definitions.txt', 'text': 'Shareholder: An individual or institution that legally owns one or more shares of stock in a public or private corporation.'}, page_content='Shareholder: An individual or institution that legally owns one or more shares of stock in a public or private corporation.'), Document(metadata={'source': 'keywords_definitions.txt', 'text': 'Tenure: The period or term during which an individual holds a position or office.'}, page_content='Tenure: The period or term during which an individual holds a position or office.')]\n"
     ]
    }
   ],
   "execution_count": 12
  },
  {
   "metadata": {},
   "cell_type": "markdown",
   "source": "Now let's get connected to our vector database!",
   "id": "35d7a1982c29ce67"
  },
  {
   "metadata": {
    "ExecuteTime": {
     "end_time": "2024-07-07T15:56:54.446263Z",
     "start_time": "2024-07-07T15:56:54.442079Z"
    }
   },
   "cell_type": "code",
   "source": [
    "vectorstore = PineconeVectorStore(index_name=PINECONE_INDEX_NAME, embedding=embeddings)\n",
    "#vectorstore.add_texts([\"More text to embed and add to the index!\"])"
   ],
   "id": "a310f4f9a954add7",
   "outputs": [],
   "execution_count": 13
  },
  {
   "metadata": {
    "ExecuteTime": {
     "end_time": "2024-07-07T15:56:57.758799Z",
     "start_time": "2024-07-07T15:56:57.286506Z"
    }
   },
   "cell_type": "code",
   "source": [
    "query = \"What is the definition of a term date?\"\n",
    "vectorstore.similarity_search(query)"
   ],
   "id": "d7fd17235d6c13fd",
   "outputs": [
    {
     "data": {
      "text/plain": [
       "[Document(metadata={'source': 'keywords_definitions.txt'}, page_content='Term Date: The date on which a contract or agreement is set to expire or terminate.'),\n",
       " Document(metadata={'source': 'keywords_definitions.txt'}, page_content='Term Date: The date on which a contract or agreement is set to expire or terminate.'),\n",
       " Document(metadata={'source': 'keywords_definitions.txt'}, page_content='Tenure: The period or term during which an individual holds a position or office.'),\n",
       " Document(metadata={'source': 'keywords_definitions.txt'}, page_content='Tenure: The period or term during which an individual holds a position or office.')]"
      ]
     },
     "execution_count": 14,
     "metadata": {},
     "output_type": "execute_result"
    }
   ],
   "execution_count": 14
  },
  {
   "metadata": {},
   "cell_type": "markdown",
   "source": "This appears to be a success. The document was parsed and split into smaller chunks. The chunks were then stored in a vector database. We then queried the database with a question and received a response. This is a successful implementation of our tool.",
   "id": "f325a3070e1ac62b"
  }
 ],
 "metadata": {
  "kernelspec": {
   "display_name": "document-parser",
   "language": "python",
   "name": "document-parser"
  },
  "language_info": {
   "codemirror_mode": {
    "name": "ipython",
    "version": 3
   },
   "file_extension": ".py",
   "mimetype": "text/x-python",
   "name": "python",
   "nbconvert_exporter": "python",
   "pygments_lexer": "ipython3",
   "version": "3.11.9"
  }
 },
 "nbformat": 4,
 "nbformat_minor": 5
}
